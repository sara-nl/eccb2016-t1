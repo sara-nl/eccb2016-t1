{
 "cells": [
  {
   "cell_type": "markdown",
   "metadata": {},
   "source": [
    "<img style=\"float: left\"  src=\"images/python.png\">\n",
    "<img style=\"float: right\" src=\"images/surfsara.png\">\n",
    "\n",
    "<hr style=\"clear: both\" />\n",
    "\n",
    "# Python introduction\n",
    "\n",
    "We present a very brief introduction to Python here before we will work with Spark.\n",
    "\n",
    "Python is relatively easy to learn. Of course, you can do complicated things but we focus on the basics here and assume that you have seen similar constructs in other programming languages.\n",
    "\n",
    "_You can edit the cells below and execute the code by selecting the cell and press Shift-Enter. Code completion is supported by use of the Tab key._"
   ]
  },
  {
   "cell_type": "markdown",
   "metadata": {},
   "source": [
    "## Variables and dynamic typing\n",
    "\n",
    "In the cell below we assign the variable `i` to an integer. We then print the type of `i`.\n",
    "You can see by executing the cell that `i` is of type _int_."
   ]
  },
  {
   "cell_type": "code",
   "execution_count": null,
   "metadata": {
    "collapsed": false
   },
   "outputs": [],
   "source": [
    "# Assign a integer to i\n",
    "i = 123567\n",
    "\n",
    "# Print the type of i\n",
    "print type(i)"
   ]
  },
  {
   "cell_type": "markdown",
   "metadata": {},
   "source": [
    "Next we assign `s` to string and determine its length. Then we print the length of `s`."
   ]
  },
  {
   "cell_type": "code",
   "execution_count": null,
   "metadata": {
    "collapsed": true
   },
   "outputs": [],
   "source": [
    "# Assign s to a string, using single quotes (or double quotes)\n",
    "s = 'abcdABCD'\n",
    "\n",
    "# Strings have a length\n",
    "s_length = len(s)"
   ]
  },
  {
   "cell_type": "markdown",
   "metadata": {},
   "source": [
    "The function `print` expects a single argument, so we create a single string from the text and variable `s_length`. For this we need to convert `s_length` from `int` to `string` using the `str` function."
   ]
  },
  {
   "cell_type": "code",
   "execution_count": null,
   "metadata": {
    "collapsed": false
   },
   "outputs": [],
   "source": [
    "# We print the length of s\n",
    "\n",
    "# The + operator concatenates strings (and lists and tuples)\n",
    "print 'length of s is : ' +  str(s_length)"
   ]
  },
  {
   "cell_type": "markdown",
   "metadata": {},
   "source": [
    "Strings are very similar to lists (we get to them next). They can be accessed by using the index, the position within the string. Take a look at the following code."
   ]
  },
  {
   "cell_type": "code",
   "execution_count": null,
   "metadata": {
    "collapsed": false
   },
   "outputs": [],
   "source": [
    "# TODO: Replace FILL IN YOUR CODE HERE with appropriate code\n",
    "\n",
    "# The first letter of s\n",
    "f = s[0]\n",
    "print 'the first letter is: ' + f\n",
    "\n",
    "# The second letter of s\n",
    "print 'the second letter is: ' + s[1]\n",
    "\n",
    "# Slice of s from offsets 1 through 2 (3 not included)\n",
    "print 'the second and third letter are: ' + s[1:3]\n",
    "\n",
    "# Print last letter of s\n",
    "print 'the last letter is: ' + s[-1]\n",
    "\n",
    "# Print the last three letters of s\n",
    "print 'the last three letters are: ' + s[-3:]\n",
    "\n",
    "# Print s, except the last letter\n",
    "print # PLEASE FILL IN YOUR CODE HERE"
   ]
  },
  {
   "cell_type": "markdown",
   "metadata": {},
   "source": [
    "## Lists\n",
    "\n",
    "Lists are ordered collections, which can contain elements of any type."
   ]
  },
  {
   "cell_type": "code",
   "execution_count": null,
   "metadata": {
    "collapsed": false
   },
   "outputs": [],
   "source": [
    "L = [123, 'some string', 1.666]\n",
    "print 'length of L is: ' +  str(len(L))"
   ]
  },
  {
   "cell_type": "code",
   "execution_count": null,
   "metadata": {
    "collapsed": false
   },
   "outputs": [],
   "source": [
    "# We create two lists and concatenate these using the + operator\n",
    "\n",
    "L1 = ['a', 'b', 'c']\n",
    "L2 = ['D', 'E', 'F']\n",
    "L3 = L1 + L2\n",
    "print L3"
   ]
  },
  {
   "cell_type": "markdown",
   "metadata": {},
   "source": [
    "Lists are objects in Python. They come with a number of methods, e.g. `append` and `reverse`.\n",
    "These methods are called on the _list_ object by using the `.` (dot) notation."
   ]
  },
  {
   "cell_type": "code",
   "execution_count": null,
   "metadata": {
    "collapsed": false
   },
   "outputs": [],
   "source": [
    "print 'L3 before reverse: ' + str(L3)\n",
    "L3.reverse()\n",
    "print 'L3 after reverse: ' + str(L3)"
   ]
  },
  {
   "cell_type": "markdown",
   "metadata": {},
   "source": [
    "Similarly we can append an element to the end of a list by calling the `append` method."
   ]
  },
  {
   "cell_type": "code",
   "execution_count": null,
   "metadata": {
    "collapsed": false
   },
   "outputs": [],
   "source": [
    "print 'L3 before append: ' + str(L3)\n",
    "L3.append('G')\n",
    "print 'L3 after append: ' + str(L3)"
   ]
  },
  {
   "cell_type": "markdown",
   "metadata": {},
   "source": [
    "Notice that reverse and append modify the _existing list_ L3. This means these methods are _impure_ functions because they have side-effects. You even invoke them just for the side-effects, because they return nothing useful!\n",
    "\n",
    "When a list contains integers or floats we can call the `sum` function to compute the total summation of its elements.\n",
    "\n",
    "Note that there are two type of 'functions' on lists. _Methods_ like `append` en `reverse` which are used on objects with the dot notation and _functions_ like `sum` and `len` that take lists as arguments."
   ]
  },
  {
   "cell_type": "code",
   "execution_count": null,
   "metadata": {
    "collapsed": false
   },
   "outputs": [],
   "source": [
    "print sum([4,5,7,77.00, 2])"
   ]
  },
  {
   "cell_type": "markdown",
   "metadata": {},
   "source": [
    "## Tuples\n",
    "\n",
    "Tuples are very much like _lists_, except that they are _immutable_, they cannot be changed. Tuples are often denoted by the parentheses `(` and `)`. This can sometimes be confusing to people new to Python. Depending on the context the parentheses can be omitted.\n",
    "\n",
    "Tuples behave very much like lists, as is shown below."
   ]
  },
  {
   "cell_type": "code",
   "execution_count": null,
   "metadata": {
    "collapsed": false,
    "scrolled": true
   },
   "outputs": [],
   "source": [
    "my_tuple = (1,2,3,4)\n",
    "print 'the length of my_tuple: ' + str(len(my_tuple))\n",
    "print 'the first element of my_tuple: ' + str(my_tuple[0])"
   ]
  },
  {
   "cell_type": "markdown",
   "metadata": {},
   "source": [
    "Tuples are immutable, so we can not replace existing elements:"
   ]
  },
  {
   "cell_type": "code",
   "execution_count": null,
   "metadata": {
    "collapsed": false
   },
   "outputs": [],
   "source": [
    "try:\n",
    "    my_tuple[2] = 9 # this will throw a TypeError\n",
    "except TypeError:\n",
    "    print \"cannot modify tuple elements!\"\n",
    "    \n",
    "print \"my_tuple[2]: \" + str(my_tuple[2])"
   ]
  },
  {
   "cell_type": "markdown",
   "metadata": {},
   "source": [
    "Tuples also lack the `append` method to add elements:"
   ]
  },
  {
   "cell_type": "code",
   "execution_count": null,
   "metadata": {
    "collapsed": false
   },
   "outputs": [],
   "source": [
    "try:\n",
    "    my_tuple.append(5) # this will throw an AttributeError\n",
    "except AttributeError:\n",
    "    print \"cannot append to a tuple!\"\n",
    "\n",
    "print \"my_tuple: \" + str(my_tuple)"
   ]
  },
  {
   "cell_type": "markdown",
   "metadata": {},
   "source": [
    "We can build lists where the list elements are tuples and select them on basis of their index."
   ]
  },
  {
   "cell_type": "code",
   "execution_count": null,
   "metadata": {
    "collapsed": false
   },
   "outputs": [],
   "source": [
    "# A list of tuples\n",
    "tuple_list = [('a','b'), (3,4), ('Z', 42)]\n",
    "\n",
    "# Select the first tuple in the list\n",
    "print 'the first tuple is: ' + str(tuple_list[0])"
   ]
  },
  {
   "cell_type": "code",
   "execution_count": null,
   "metadata": {
    "collapsed": false
   },
   "outputs": [],
   "source": [
    "# Select the first element of the first tuple of the list\n",
    "print 'the first element of the first tuple is: ' + tuple_list[0][0]"
   ]
  },
  {
   "cell_type": "code",
   "execution_count": null,
   "metadata": {
    "collapsed": false
   },
   "outputs": [],
   "source": [
    "# TODO: Replace FILL IN YOUR CODE HERE with appropriate code\n",
    "\n",
    "# Print the second element of the third tuple\n",
    "print # PLEASE FILL IN YOUR CODE HERE"
   ]
  },
  {
   "cell_type": "markdown",
   "metadata": {},
   "source": [
    "## Dictionaries\n",
    "\n",
    "Dictionaries are very similar to `Maps` in Java. They are unordered collections of key-value pairs. The key is used to retrieve the related value from the dictionary.\n",
    "\n",
    "To index a dictionary by a key we use the same bracketed notion as with lists, but here the key instead of the offset is used."
   ]
  },
  {
   "cell_type": "code",
   "execution_count": null,
   "metadata": {
    "collapsed": false
   },
   "outputs": [],
   "source": [
    "my_dict = {'name' : 'John',\n",
    "           'age' : 29,\n",
    "           'city' : 'New York'}\n",
    "\n",
    "print my_dict['name'] + ' lives in ' + my_dict['city'] + ' and is ' + str(my_dict['age']) + ' years old.'"
   ]
  },
  {
   "cell_type": "markdown",
   "metadata": {},
   "source": [
    "## Functions\n",
    "\n",
    "You can define functions in Python, similar to other languages. We assume you are familiar with the concept of a function in programming languages.\n",
    "\n",
    "There are two basic ways to define a function. The first is by using the `def` keyword and a name for the function, followed by arguments and `:`. The keyword `return` is used to return the value.\n",
    "\n",
    "Here we see another feature of Python: it is sensitive to indentation. In the cell below you see that a tab preceding the return statement. Removing this tab will result in an indentation error. The rules for indentation are very intuitive, but you must remember to abide by them."
   ]
  },
  {
   "cell_type": "code",
   "execution_count": null,
   "metadata": {
    "collapsed": false
   },
   "outputs": [],
   "source": [
    "# We define a function called times, which takes two integers and returns their product\n",
    "def times(x, y):\n",
    "    return x * y\n",
    "\n",
    "p = times(3, 2)\n",
    "print 'the product of 3 and 2 is: ' + str(p)"
   ]
  },
  {
   "cell_type": "markdown",
   "metadata": {},
   "source": [
    "## Lambda functions\n",
    "\n",
    "There is another way of defining functions, called _lambda_ or _anonymous_ functions. The term lambda comes from the field of lambda calculus, which is a branch of mathematics. Lambda functions play a large role in functional programming languages.\n",
    "\n",
    "Both MapReduce and Spark have taken their inspiration from functional programming and hence understanding lambda functions will help you to understand MapReduce and Spark.\n",
    "\n",
    "Lambda functions are anonymous functions, that is functions without a name. The keyword `lambda` simply denotes that a function is defined. What follows is a function statement, a single statement only, and no return statement.\n",
    "\n",
    "Finally, a lambda function can be assigned to a variable, which then is used as the name of the function. This is not possible with functions that are defined using `def`.\n",
    "\n",
    "Let's look at an example."
   ]
  },
  {
   "cell_type": "code",
   "execution_count": null,
   "metadata": {
    "collapsed": false
   },
   "outputs": [],
   "source": [
    "# This lambda function has two arguments x and y which are multiplied\n",
    "#  Note that there is no return statement and that the function is assigned to the variable l_times\n",
    "#  The : separates the arguments from the body of the function\n",
    "l_times = lambda x,y: x * y\n",
    "\n",
    "# Next we call the function by using the variable as a function\n",
    "result = l_times(2,3)\n",
    "print 'the product of 2 and 3 is: ' + str(result)"
   ]
  },
  {
   "cell_type": "markdown",
   "metadata": {
    "collapsed": true
   },
   "source": [
    "## Lambda function exercise\n",
    "\n",
    "Next, define a lambda function which adds two numbers. Then execute the function on the integers 7 and 9 and print the result."
   ]
  },
  {
   "cell_type": "code",
   "execution_count": null,
   "metadata": {
    "collapsed": true
   },
   "outputs": [],
   "source": [
    "# TODO: Replace FILL IN YOUR CODE HERE with appropriate code\n",
    "\n",
    "# A lambda function to add two numbers\n",
    "my_add = lambda # PLEASE FILL IN YOUR CODE HERE\n",
    "\n",
    "# Add two numbers using the function just defined\n",
    "result = # PLEASE FILL IN YOUR CODE HERE\n",
    "\n",
    "print str(result)"
   ]
  },
  {
   "cell_type": "markdown",
   "metadata": {},
   "source": [
    "## Map and Reduce\n",
    "\n",
    "Functions are very important to both MapReduce and Spark. To see why let us look at a function called `map`, which is part of Python.\n",
    "\n",
    "`Map` is a function which takes two arguments, a function and a list. `Map` applies the function (its first argument) to every element of the list (its second argument).\n",
    "\n",
    "In the next cell we show how this works.\n",
    "We define a list called `celsius` which contains a number of temperature measures in degrees Celsius. We are going to convert this list to degrees Fahrenheit.\n",
    "\n",
    "For this we write a function which will convert a single degree Celsius into Fahrenheit.  We then call `map` to apply this function to all elements of the list `celsius`."
   ]
  },
  {
   "cell_type": "code",
   "execution_count": null,
   "metadata": {
    "collapsed": false
   },
   "outputs": [],
   "source": [
    "# A list of temperature measures in degrees Celsius\n",
    "celsius = [39.2, 36.5, 37.3, 37.8]\n",
    "\n",
    "# A lambda function defining the conversion from a degree in Celsius to one in Fahrenheit\n",
    "convert = lambda x: (float(9)/5)*x + 32\n",
    "\n",
    "# By using map we apply the function to every element of the list celsius\n",
    "fahrenheit = map(convert, celsius)\n",
    "\n",
    "# We can do exactly the same by using the lambda expression inside the map statement directly\n",
    "# fahrenheit = map(lambda x: (float(9)/5)*x + 32, celsius)\n",
    "print fahrenheit"
   ]
  },
  {
   "cell_type": "markdown",
   "metadata": {},
   "source": [
    "We do not have to use lambda functions here. We can define the convert function using `def` and use the name of the function as the first argument for map. Let's see how this works:"
   ]
  },
  {
   "cell_type": "code",
   "execution_count": null,
   "metadata": {
    "collapsed": false
   },
   "outputs": [],
   "source": [
    "# We define the same function as in the previous cell, now using def\n",
    "def convert_def(x):\n",
    "    fahr = (float(9)/5)*x + 32\n",
    "    return fahr\n",
    "\n",
    "# Let's use it in map on the celsius list\n",
    "fahrenheit = map(convert_def, celsius)\n",
    "print fahrenheit"
   ]
  },
  {
   "cell_type": "markdown",
   "metadata": {},
   "source": [
    "This is conceptually very similar to Hadoop's Map as in MapReduce. But the Python version is not executed in parallel, as in Hadoop.\n",
    "\n",
    "Next, let us look at Reduce. Python also has a function called `reduce` which takes as its first argument a function, and as a second argument a list. The function has to have two arguments.\n",
    "\n",
    "`Reduce` will then apply the function to the first two elements of the list and use this result together with the next item in the list to compute the next step. This procedure is repeated until the entire list is traversed.\n",
    "\n",
    "For example, suppose we want to add up all elements of the list `[47, 11, 42, 13]` then we write a function which will add up two integers, and we will call `reduce`. `Reduce` will then proceed as depicted in the picture below:\n",
    "\n",
    "![python reduce](images/reduce.png)\n",
    "\n",
    "Note that this function `reduce` resembles Hadoop's Reduce. In Hadoop you have to supply the Mappers and Reducers classes with a program, in Python it is function.\n",
    "\n",
    "Spark works similar to Python in this regard. You have to write functions that you have feed into other functions, which will process data for you.\n",
    "\n",
    "As a final exercise, before we move to Spark, we are going to compute the mean of the Fahrenheit list, using reduce."
   ]
  },
  {
   "cell_type": "code",
   "execution_count": null,
   "metadata": {
    "collapsed": false
   },
   "outputs": [],
   "source": [
    "# TODO: Replace FILL IN YOUR CODE HERE with appropriate code\n",
    "\n",
    "# First write a lambda function which adds up two elements\n",
    "sum_up = # PLEASE FILL IN YOUR CODE HERE\n",
    "\n",
    "# Use reduce to sum up the elements in fahrenheit\n",
    "total = reduce(# PLEASE FILL IN YOUR CODE HERE)\n",
    "\n",
    "# Divide total by the length of the list fahrenheit\n",
    "# Use the division operator /\n",
    "mean = total / len(fahrenheit)\n",
    "print 'the mean temperature is: ' + str(mean)"
   ]
  },
  {
   "cell_type": "code",
   "execution_count": null,
   "metadata": {
    "collapsed": false
   },
   "outputs": [],
   "source": [
    "# Run this cell to test if you have the right value for mean\n",
    "from test_helper import Test\n",
    "import numpy as np\n",
    "\n",
    "Test.assertTrue(np.allclose(mean, 99.86), 'Wrong value for mean')"
   ]
  },
  {
   "cell_type": "markdown",
   "metadata": {},
   "source": [
    "## Spark teaser"
   ]
  },
  {
   "cell_type": "markdown",
   "metadata": {},
   "source": [
    "To show you how similar the operations in Spark are to the functional Python version we will give you a teaser on how to do the Celsius to Fahrenheit conversion in Spark. For such a small example of course the overhead outweights the benefit of parallel processing.\n",
    "\n",
    "Instead of working on Python lists we will do our processing on Spark's data structure for collections called _RDD's_. These will be explained later today. Comparing the following code to the earlier version we note:\n",
    "\n",
    "- The workflow is exactly the same.\n",
    "- We can even re-use the lambda functions.\n",
    "- But `map` and `reduce` are methods of RDD instead of functions.\n",
    "- Instead of the Python `len` function we use the `count` method."
   ]
  },
  {
   "cell_type": "code",
   "execution_count": null,
   "metadata": {
    "collapsed": false
   },
   "outputs": [],
   "source": [
    "# Initialize Spark\n",
    "from pyspark import SparkContext, SparkConf\n",
    "\n",
    "if not 'sc' in globals(): # This 'trick' makes sure the SparkContext sc is initialized exactly once\n",
    "    conf = SparkConf().setMaster('local[*]')\n",
    "    sc = SparkContext(conf=conf)"
   ]
  },
  {
   "cell_type": "code",
   "execution_count": null,
   "metadata": {
    "collapsed": false
   },
   "outputs": [],
   "source": [
    "# Distribute the celsius list\n",
    "celcius_rdd = sc.parallelize(celsius)\n",
    "\n",
    "# This part runs in parallel\n",
    "fahrenheit_rdd = celcius_rdd.map(convert)\n",
    "print 'degrees in Fahrenheit: ' + str(fahrenheit_rdd.collect())\n",
    "count = fahrenheit_rdd.count()\n",
    "mean = fahrenheit_rdd.reduce(sum_up) / count\n",
    "\n",
    "print 'the mean temperature is: ' + str(mean)"
   ]
  }
 ],
 "metadata": {
  "kernelspec": {
   "display_name": "Python 2",
   "language": "python",
   "name": "python2"
  },
  "language_info": {
   "codemirror_mode": {
    "name": "ipython",
    "version": 2
   },
   "file_extension": ".py",
   "mimetype": "text/x-python",
   "name": "python",
   "nbconvert_exporter": "python",
   "pygments_lexer": "ipython2",
   "version": "2.7.12"
  }
 },
 "nbformat": 4,
 "nbformat_minor": 0
}
